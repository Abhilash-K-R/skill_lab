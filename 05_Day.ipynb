{
  "nbformat": 4,
  "nbformat_minor": 0,
  "metadata": {
    "colab": {
      "provenance": [],
      "authorship_tag": "ABX9TyM3sKEco3NBc+foFazl58Jd",
      "include_colab_link": true
    },
    "kernelspec": {
      "name": "python3",
      "display_name": "Python 3"
    },
    "language_info": {
      "name": "python"
    }
  },
  "cells": [
    {
      "cell_type": "markdown",
      "metadata": {
        "id": "view-in-github",
        "colab_type": "text"
      },
      "source": [
        "<a href=\"https://colab.research.google.com/github/Abhilash-K-R/skill_lab/blob/main/05_Day.ipynb\" target=\"_parent\"><img src=\"https://colab.research.google.com/assets/colab-badge.svg\" alt=\"Open In Colab\"/></a>"
      ]
    },
    {
      "cell_type": "markdown",
      "source": [
        "# Linked list"
      ],
      "metadata": {
        "id": "fEfGmUf946-F"
      }
    },
    {
      "cell_type": "code",
      "execution_count": null,
      "metadata": {
        "id": "yK4zc4u94oAu"
      },
      "outputs": [],
      "source": [
        "# Linked List\n",
        "'''\n",
        "its a type of data structure ,\n",
        "in this particlar data structure it consists of multiple notes which as linked to each other\n",
        "which have an a sertain data amount in the\n",
        "each of this particular notes provides a pointer OR a link to the next notes\n",
        "'''"
      ]
    },
    {
      "cell_type": "code",
      "source": [
        "#\n",
        "'''\n",
        "a major benifit of using linked list over arrays are , even throubg a linked list is a  user define data structure\n",
        "\n",
        "in the case of linked list the element and easily delited\n",
        "ther is no shifting operation in the memeory that is required\n",
        "but in the case of array we have to     operation in the memory\n",
        "insertion and deletion and updating\n",
        "\n",
        "# type in linked list\n",
        "\n",
        "1) singly linked list\n",
        "2) doublly linked list\n",
        "3) cirularlly linked list\n",
        "\n",
        "1) singlly linked list :- a type of linked listeach nod++e as the reference element to the subsiquent to the next note\n",
        "\n",
        "2) dublly linked list :-\n",
        "'''"
      ],
      "metadata": {
        "id": "wcbaXp2D6AXM"
      },
      "execution_count": null,
      "outputs": []
    },
    {
      "cell_type": "code",
      "source": [
        "# ICE CREAM SHOPE\n",
        "print(\"Welcome to anjanadri Candy Shop\")\n",
        "\n",
        "def orange():\n",
        "  print(\"You Choosen Orange Ice Creams\")\n",
        "  r = 100\n",
        "  a = int(input(\"how many Ice cream you want : \"))\n",
        "\n",
        "  b = r-a\n",
        "  c = a*10\n",
        "  print(f\"You need to Pay {c} Rupees for {a}  Ice Creams .\")\n",
        "  y = input(\"did you pay ? : \")\n",
        "  if y in (\"yes\",\"YES\",\"y\",\"Y\"):\n",
        "    print(\"Take your Ice Creams . \\n Visit again \")\n",
        "  elif y in (\"no\",\"NO\",\"n\",\"N\"):\n",
        "     print(\"Go Home and come back with Money \")\n",
        "  else:\n",
        "    print(\" enter correctly \")\n",
        "\n",
        "def choc():\n",
        "  print(\"You Choosen Chacolate Ice Creams\")\n",
        "  r = 100\n",
        "  a = int(input(\"how many Ice cream you want : \"))\n",
        "\n",
        "  b = r-a\n",
        "  c = a*25\n",
        "  print(f\"You need to Pay {c} Rupees for {a}  Ice Creams .\")\n",
        "  y = input(\"did you pay ? : \")\n",
        "  if y in (\"yes\",\"YES\",\"y\",\"Y\"):\n",
        "    print(\"Take your Ice Creams . \\n Visit again \")\n",
        "  elif y in (\"no\",\"NO\",\"n\",\"N\"):\n",
        "     print(\"Go Home and come back with Money \")\n",
        "  else:\n",
        "    print(\" enter correctly \")\n",
        "\n",
        "def vanil():\n",
        "  print(\"You Choosen Vanila Ice Creams\")\n",
        "  r = 100\n",
        "  a = int(input(\"how many Ice cream you want : \"))\n",
        "\n",
        "  b = r-a\n",
        "  c = a*18\n",
        "  print(f\"You need to Pay {c} Rupees for {a}  Ice Creams .\")\n",
        "  y = input(\"did you pay ? : \")\n",
        "  if y in (\"yes\",\"YES\",\"y\",\"Y\"):\n",
        "    print(\"Take your Ice Creams . \\n Visit again \")\n",
        "  elif y in (\"no\",\"NO\",\"n\",\"N\"):\n",
        "     print(\"Go Home and come back with Money \")\n",
        "  else:\n",
        "    print(\" enter correctly \")\n",
        "\n",
        "def stra():\n",
        "  print(\"You Choosen Straberry Ice Creams\")\n",
        "  r = 100\n",
        "  a = int(input(\"how many Ice cream you want : \"))\n",
        "\n",
        "  b = r-a\n",
        "  c = a*15\n",
        "  print(f\"You need to Pay {c} Rupees for {a}  Ice Creams .\")\n",
        "  y = input(\"did you pay ? : \")\n",
        "  if y in (\"yes\",\"YES\",\"y\",\"Y\"):\n",
        "    print(\"Take your Ice Creams . \\nThank youVisit again \")\n",
        "  elif y in (\"no\",\"NO\",\"n\",\"N\"):\n",
        "     print(\"Go Home and come back with Money \")\n",
        "  else:\n",
        "    print(\" enter correctly \")\n",
        "\n",
        "\n",
        "def coustmer():\n",
        "  while True:\n",
        "    print(\"Which fleaver you want \\nhere is our menu \\n Please Enter your Option \")\n",
        "    need = input(\" 1. for Orange \\n 2. for Chacolate \\n 3. for vanila \\n 4. for straberry \")\n",
        "    if need == \"1\":\n",
        "      orange()\n",
        "      break\n",
        "    elif need == \"2\":\n",
        "      choc()\n",
        "      break\n",
        "    elif need == \"3\":\n",
        "      vanil()\n",
        "      break\n",
        "    elif need == \"4\":\n",
        "      stra()\n",
        "      break\n",
        "    else:\n",
        "      print(\"Enter the option Correctlly \")\n",
        "\n",
        "def product():\n",
        "  print(\"wait code in process\")\n",
        "\n",
        "def details():\n",
        "  data = input(\"choose 1 for owner \\nchoose 2 for coustmer\\n\")\n",
        "  if data in (\"1\"):\n",
        "    product()\n",
        "\n",
        "  elif data in (\"2\"):\n",
        "    coustmer()\n",
        "\n",
        "details()"
      ],
      "metadata": {
        "colab": {
          "base_uri": "https://localhost:8080/"
        },
        "id": "VRE-bGrfh2tl",
        "outputId": "7bcd7c00-e276-4fee-a8c0-3451e794074f"
      },
      "execution_count": null,
      "outputs": [
        {
          "output_type": "stream",
          "name": "stdout",
          "text": [
            "Welcome to anjanadri Candy Shop\n",
            "choose 1 for owner \n",
            "choose 2 for coustmer\n",
            "2\n",
            "Which fleaver you want \n",
            "here is our menu \n",
            " Please Enter your Option \n",
            " 1. for Orange \n",
            " 2. for Chacolate \n",
            " 3. for vanila \n",
            " 4. for straberry 7\n",
            "Enter the option Correctlly \n",
            "Which fleaver you want \n",
            "here is our menu \n",
            " Please Enter your Option \n",
            " 1. for Orange \n",
            " 2. for Chacolate \n",
            " 3. for vanila \n",
            " 4. for straberry 0\n",
            "Enter the option Correctlly \n",
            "Which fleaver you want \n",
            "here is our menu \n",
            " Please Enter your Option \n",
            " 1. for Orange \n",
            " 2. for Chacolate \n",
            " 3. for vanila \n",
            " 4. for straberry 7\n",
            "Enter the option Correctlly \n",
            "Which fleaver you want \n",
            "here is our menu \n",
            " Please Enter your Option \n",
            " 1. for Orange \n",
            " 2. for Chacolate \n",
            " 3. for vanila \n",
            " 4. for straberry 3\n",
            "You Choosen Vanila Ice Creams\n",
            "how many Ice cream you want : 90\n",
            "You need to Pay 1620 Rupees for 90  Ice Creams .\n",
            "did you pay ? : y\n",
            "Take your Ice Creams . \n",
            " Visit again \n"
          ]
        }
      ]
    },
    {
      "cell_type": "code",
      "source": [],
      "metadata": {
        "id": "KfPKsjfwltzK"
      },
      "execution_count": null,
      "outputs": []
    }
  ]
}