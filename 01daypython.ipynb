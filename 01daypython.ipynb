{
  "nbformat": 4,
  "nbformat_minor": 0,
  "metadata": {
    "colab": {
      "provenance": [],
      "gpuType": "T4",
      "authorship_tag": "ABX9TyPzCogk4pOwTYrFynOUIgFk",
      "include_colab_link": true
    },
    "kernelspec": {
      "name": "python3",
      "display_name": "Python 3"
    },
    "language_info": {
      "name": "python"
    },
    "accelerator": "GPU"
  },
  "cells": [
    {
      "cell_type": "markdown",
      "metadata": {
        "id": "view-in-github",
        "colab_type": "text"
      },
      "source": [
        "<a href=\"https://colab.research.google.com/github/Abhilash-K-R/skill_lab/blob/main/01daypython.ipynb\" target=\"_parent\"><img src=\"https://colab.research.google.com/assets/colab-badge.svg\" alt=\"Open In Colab\"/></a>"
      ]
    },
    {
      "cell_type": "markdown",
      "source": [
        "comments in python"
      ],
      "metadata": {
        "id": "thrgPG-he5In"
      }
    },
    {
      "cell_type": "code",
      "source": [
        "# this is how we define a single line comment in python\n",
        "'''we are attending the python class\n",
        "this is the multiline comment by useing  '''\n",
        "\n",
        "print(\"Hello world\")"
      ],
      "metadata": {
        "id": "2V1GzMySX5Yy"
      },
      "execution_count": null,
      "outputs": []
    },
    {
      "cell_type": "markdown",
      "source": [
        "variables and python"
      ],
      "metadata": {
        "id": "Bt4J4kBNfIpa"
      }
    },
    {
      "cell_type": "code",
      "source": [
        "#variables in python\n",
        "x = 5\n",
        "y = 'abhi'\n",
        "print(x)\n",
        "print(y)\n",
        "\n",
        "#dynamic futuere\n",
        "x= 4\n",
        "print(x)\n",
        "\n",
        "# check the types of the variable\n",
        "print(type(x))\n",
        "print(type(y))\n",
        "\n",
        "# Multi assignment of values\n",
        "x,y,z = \"orange\",\"apple\",\"banana\"\n",
        "print(x)\n",
        "print(y)\n",
        "print(z)\n",
        "\n",
        "#assigning one values to multi variable\n",
        "x=y=z = \"orange\"\n",
        "print(x)\n",
        "print(y)\n",
        "print(z)\n",
        "\n",
        "#lists\n",
        "#unpacking of collection\n",
        "fruits=[\"apple\",\"banana\",\"cherry\"]\n",
        "x,y,z = fruits\n",
        "print(x)\n",
        "print(y)\n",
        "print(z)\n",
        "\n",
        "#global variables\n",
        "x = \"amazing\"\n",
        "\n",
        "def myfunc():\n",
        "  x = \"super\"\n",
        "  print(\"python is \"+x)\n",
        "\n",
        "myfunc()\n",
        "print(\"python is \"+x)"
      ],
      "metadata": {
        "colab": {
          "base_uri": "https://localhost:8080/"
        },
        "id": "u--n_ZkieAl5",
        "outputId": "ad9e3adb-f335-46d6-a227-17250a80c362"
      },
      "execution_count": null,
      "outputs": [
        {
          "output_type": "stream",
          "name": "stdout",
          "text": [
            "5\n",
            "abhi\n",
            "4\n",
            "<class 'int'>\n",
            "<class 'str'>\n",
            "orange\n",
            "apple\n",
            "banana\n",
            "orange\n",
            "orange\n",
            "orange\n",
            "apple\n",
            "banana\n",
            "cherry\n",
            "python is super\n",
            "python is amazing\n"
          ]
        }
      ]
    }
  ]
}