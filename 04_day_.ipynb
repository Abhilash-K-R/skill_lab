{
  "nbformat": 4,
  "nbformat_minor": 0,
  "metadata": {
    "colab": {
      "provenance": [],
      "authorship_tag": "ABX9TyNaWmN8uezmB1o3DpY4n77p",
      "include_colab_link": true
    },
    "kernelspec": {
      "name": "python3",
      "display_name": "Python 3"
    },
    "language_info": {
      "name": "python"
    }
  },
  "cells": [
    {
      "cell_type": "markdown",
      "metadata": {
        "id": "view-in-github",
        "colab_type": "text"
      },
      "source": [
        "<a href=\"https://colab.research.google.com/github/Abhilash-K-R/skill_lab/blob/main/04_day_.ipynb\" target=\"_parent\"><img src=\"https://colab.research.google.com/assets/colab-badge.svg\" alt=\"Open In Colab\"/></a>"
      ]
    },
    {
      "cell_type": "code",
      "source": [
        "# Algorithms :- it is a step by step procrdure to solve particular problem\n",
        "'''\n",
        "#The order of complexity of numbers\n",
        "1: being the fastest\n",
        "2: being the slowest\n",
        "\n",
        "1:O(1)\n",
        "2:O(logn)\n",
        "3:O(n)\n",
        "4:O(n^2)\n",
        "5:O(n^3)\n",
        "6:O(n^k)\n",
        "7:O(2^n)\n",
        "8:O(n!)\n",
        "\n",
        "#problem no 1: calculate the sum of two numbers\n",
        "1. Start\n",
        "2. Take two numbers as input\n",
        "3. Add the two numbers\n",
        "4. Output the result\n",
        "5. End\n",
        "'''"
      ],
      "metadata": {
        "id": "YmS3KHwHSvfa"
      },
      "execution_count": null,
      "outputs": []
    },
    {
      "cell_type": "code",
      "execution_count": null,
      "metadata": {
        "colab": {
          "base_uri": "https://localhost:8080/"
        },
        "id": "Qcl8V_JONf4I",
        "outputId": "129fdf11-c08b-415c-aa60-16a2fc865892"
      },
      "outputs": [
        {
          "output_type": "stream",
          "name": "stdout",
          "text": [
            "Enter a 1st number : 1\n",
            "Enter a 2nd number : 1\n",
            "2\n"
          ]
        }
      ],
      "source": [
        "   # adding two numbers\n",
        "\n",
        "def add_num():\n",
        "  a = int(input(\"Enter a 1st number : \"))\n",
        "  b = int(input(\"Enter a 2nd number : \"))\n",
        "  return a+b\n",
        "print(add_num())"
      ]
    },
    {
      "cell_type": "code",
      "source": [
        "# problem statement : Algorithm to find the maximum value in the list\n",
        "'''\n",
        "1. start\n",
        "2. take the number as list\n",
        "3. finding the maximum value in the list\n",
        "4. initilaze the entire list\n",
        "5. loop through the entire list\n",
        "6. compare the each element which is the maximum with the next element in the list\n",
        "7. if an element found to be greater than the current maximum element\n",
        "8. update the new maximum\n",
        "9. output the maximum value\n",
        "10. End\n",
        "'''\n",
        "\n"
      ],
      "metadata": {
        "id": "VLc9JJTFYavj"
      },
      "execution_count": null,
      "outputs": []
    },
    {
      "cell_type": "code",
      "source": [
        "# Algorithms for finding maximum number\n",
        "\n",
        "def find_max(numbers):\n",
        "  max_value = numbers[0]\n",
        "  for i in numbers:\n",
        "    if i>max_value:\n",
        "      max_value = i\n",
        "  return max_value\n",
        "\n",
        "print(find_max([3,7,14,1,2]))"
      ],
      "metadata": {
        "colab": {
          "base_uri": "https://localhost:8080/"
        },
        "id": "q6Obqmmug2zy",
        "outputId": "a9cdb3be-5c9c-458c-e5e6-8581a2c0ece1"
      },
      "execution_count": null,
      "outputs": [
        {
          "output_type": "stream",
          "name": "stdout",
          "text": [
            "14\n"
          ]
        }
      ]
    },
    {
      "cell_type": "code",
      "source": [
        "# Algorithms for factorial\n",
        "\n",
        "'''\n",
        "1. start\n",
        "2. take the n values\n",
        "3. if the number is 1, rturn 1\n",
        "4. multiply number by the factorial of (number - 1)\n",
        "5. End\n",
        "'''\n",
        "\n",
        "def fact(n):\n",
        "  if n == 1:\n",
        "    return 1\n",
        "  else :\n",
        "    return n * fact(n-1)\n",
        "print(fact(5))"
      ],
      "metadata": {
        "colab": {
          "base_uri": "https://localhost:8080/"
        },
        "id": "ZMHRlneNsFyY",
        "outputId": "b08f1753-ccb7-47e1-b971-1bc3dc3c19f6"
      },
      "execution_count": null,
      "outputs": [
        {
          "output_type": "stream",
          "name": "stdout",
          "text": [
            "120\n"
          ]
        }
      ]
    },
    {
      "cell_type": "code",
      "source": [
        "# problem statement : print the fibonacci series of the no of term\n",
        "'''\n",
        "1. start\n",
        "2. take the n value\n",
        "3. if n is less than or equal 1 then we return the value of n\n",
        "4. else if the value is more than  1  then we do fibonacci (n-1) + fibonacci()\n",
        "5. print the output\n",
        "6. End\n",
        "'''\n",
        "\n",
        "def fib(n):\n",
        "  if n<= 1:\n",
        "    return n\n",
        "  else:\n",
        "    return fib(n-1)+fib(n-2)\n",
        "\n",
        "terms = int(input(\"Enter the  no of terms : \"))\n",
        "if terms <= 0:\n",
        "  print(\"Enter a possitive value \")\n",
        "else:\n",
        "  print(\"The fib will be : \")\n",
        "  for i in range(terms):\n",
        "    print(fib(i))"
      ],
      "metadata": {
        "colab": {
          "base_uri": "https://localhost:8080/"
        },
        "id": "nnLNqeAEu7Gt",
        "outputId": "6783e6ad-ba32-4100-df42-eba42caeafab"
      },
      "execution_count": null,
      "outputs": [
        {
          "output_type": "stream",
          "name": "stdout",
          "text": [
            "Enter the  no of terms : 4\n",
            "The fib will be : \n",
            "0\n",
            "1\n",
            "1\n",
            "2\n"
          ]
        }
      ]
    },
    {
      "cell_type": "code",
      "source": [
        "# Algorithms for pallindrome checking\n",
        "# pallindrome checking\n",
        "\n",
        "'''\n",
        "1. start\n",
        "2. take the input as a string\n",
        "3. reverse the entered string\n",
        "4. compare the existing string the reversed string\n",
        "5. if they are equal then we print that it is a pallindrome\n",
        "6. End\n",
        "'''\n",
        "\n",
        "def is_pall(word):\n",
        "  reverse_word = word[::-1]\n",
        "  if word == reverse_word:\n",
        "    return True\n",
        "  else:\n",
        "    return False\n",
        "print(is_pall(\"madam\"))"
      ],
      "metadata": {
        "colab": {
          "base_uri": "https://localhost:8080/"
        },
        "id": "txUlrLBny2nL",
        "outputId": "1e924c22-c580-4a2c-dd4c-e4bc8233b586"
      },
      "execution_count": null,
      "outputs": [
        {
          "output_type": "stream",
          "name": "stdout",
          "text": [
            "True\n"
          ]
        }
      ]
    },
    {
      "cell_type": "code",
      "source": [],
      "metadata": {
        "id": "L_Po6F1h12oZ"
      },
      "execution_count": null,
      "outputs": []
    },
    {
      "cell_type": "code",
      "source": [
        "# bubble sort : sorting of  a given list using bubble sort\n",
        "# Algorithms for bubble sort\n",
        "'''\n",
        "1. start\n",
        "2. take the input as an array\n",
        "3. cinsider 2 numbers and compare the first value with the adjacent value in the array\n",
        "4. if the elements are in the wrong order than swap them\n",
        "5. repeat until no more swaps are needded\n",
        "6. End\n",
        "'''\n",
        "\n",
        "def bubble_sort(arr):\n",
        "  n = len(arr)\n",
        "  for i in range(n):\n",
        "    for j in range(0,n-i-1):\n",
        "      if arr[j] > arr[j+1]:\n",
        "        arr[j],arr[j+1] = arr[j+1] , arr[j]\n",
        "  return arr\n",
        "print(bubble_sort([7,14,1,6,20]))"
      ],
      "metadata": {
        "colab": {
          "base_uri": "https://localhost:8080/"
        },
        "id": "UPX-3sc_7fMV",
        "outputId": "712d2e12-dafc-46ef-ed0a-c1484e4387c7"
      },
      "execution_count": null,
      "outputs": [
        {
          "output_type": "stream",
          "name": "stdout",
          "text": [
            "[1, 6, 7, 14, 20]\n"
          ]
        }
      ]
    },
    {
      "cell_type": "markdown",
      "source": [
        "#  LINEAR SEAECH\n"
      ],
      "metadata": {
        "id": "vZAJJE7QavOA"
      }
    },
    {
      "cell_type": "code",
      "source": [
        "# LINEAR SEARCH : It is a straight farward algorithm that checks each element in a list ,\n",
        "#  one by one until it finds the element we are lookng for\n",
        "\n",
        "# Using Numbers\n",
        "\n",
        "def len_search(arr,target):\n",
        "  for i in range(len(arr)):\n",
        "    if arr[i] == target:\n",
        "      return i  # print(f\"the element found at {i} the index \")\n",
        "  return -1\n",
        "numbers = [10,20,30,40,50]\n",
        "print(len_search(numbers, 40 ))\n"
      ],
      "metadata": {
        "colab": {
          "base_uri": "https://localhost:8080/"
        },
        "id": "cJoGFUvwUgk1",
        "outputId": "8d23e2af-e661-40c5-9769-53c0dca6be07"
      },
      "execution_count": null,
      "outputs": [
        {
          "output_type": "stream",
          "name": "stdout",
          "text": [
            "3\n"
          ]
        }
      ]
    },
    {
      "cell_type": "code",
      "source": [
        "# Using strings\n",
        "\n",
        "def len_search(arr,target):\n",
        "  for i in range(len(arr)):\n",
        "    if arr[i] == target:\n",
        "      return i  # print(f\"the element found at {i} the index \")\n",
        "  return -1\n",
        "words = [\"apple\",\"banana\",\"cherry\",\"mango\"]\n",
        "print(len_search(words, \"cherry\" ))\n"
      ],
      "metadata": {
        "colab": {
          "base_uri": "https://localhost:8080/"
        },
        "id": "0pngf5hSZMcr",
        "outputId": "9748fd0f-be40-4f0b-b059-aca18a48c241"
      },
      "execution_count": null,
      "outputs": [
        {
          "output_type": "stream",
          "name": "stdout",
          "text": [
            "2\n"
          ]
        }
      ]
    },
    {
      "cell_type": "markdown",
      "source": [
        "# BINARY SEARCH"
      ],
      "metadata": {
        "id": "S5tp-wosfBOv"
      }
    },
    {
      "cell_type": "code",
      "source": [
        "# Binary Search only takes sorted arrays\n",
        "'''\n",
        " binary search :- it is a more efficient algorithms than linear search\n",
        " because its has a complexity of O(logn) unnlike linear search which has a Complexity of O(n) in binary\n",
        " search it repeatedly divides the searching interval in half\n",
        " if the target value is less than midpoint we go to the left\n",
        " if it is more than the midpoint we go to the right and find for the target value\n",
        "'''"
      ],
      "metadata": {
        "id": "1axRWDZOaaz3"
      },
      "execution_count": null,
      "outputs": []
    },
    {
      "cell_type": "code",
      "source": [
        "# binary search\n",
        "\n",
        "#  Using Numbers\n",
        "\n",
        "def bin_search(arr,target):\n",
        "  left = 0\n",
        "  right = len(arr) -1\n",
        "  while left <= right:\n",
        "    mid = (left+right) // 2\n",
        "    if arr[mid] == target:\n",
        "      return mid\n",
        "    elif arr[mid]<target:\n",
        "      left = mid\n",
        "    else:\n",
        "      right = mid -1\n",
        "  return -1\n",
        "\n",
        "number = [10,20,30,40,50]\n",
        "print(bin_search(number,40))"
      ],
      "metadata": {
        "colab": {
          "base_uri": "https://localhost:8080/"
        },
        "id": "MXB1AqyrfIYs",
        "outputId": "ce7cb798-c5f2-4aa6-b766-eec7f9c83fba"
      },
      "execution_count": null,
      "outputs": [
        {
          "output_type": "stream",
          "name": "stdout",
          "text": [
            "3\n"
          ]
        }
      ]
    },
    {
      "cell_type": "code",
      "source": [
        "#  Using Words\n",
        "\n",
        "def bin_search(arr,target):\n",
        "  left = 0\n",
        "  right = len(arr) -1\n",
        "  while left <= right:\n",
        "    mid = (left+right) // 2\n",
        "    if arr[mid] == target:\n",
        "      return mid\n",
        "    elif arr[mid]<target:\n",
        "      left = mid\n",
        "    else:\n",
        "      right = mid -1\n",
        "  return -1\n",
        "\n",
        "word = [\"apple\",\"banana\",\"cherry\"]\n",
        "print(bin_search(word,\"apple\"))"
      ],
      "metadata": {
        "colab": {
          "base_uri": "https://localhost:8080/"
        },
        "id": "4v77ka02oIZo",
        "outputId": "1438a194-7152-4f99-b5ce-768e1e758981"
      },
      "execution_count": null,
      "outputs": [
        {
          "output_type": "stream",
          "name": "stdout",
          "text": [
            "0\n"
          ]
        }
      ]
    },
    {
      "cell_type": "code",
      "source": [
        "# love caluculator\n",
        "\n",
        "import random\n",
        "def love_calculator():\n",
        "  print(\"Welcome to love Calculator\")\n",
        "\n",
        "  name1 = input(\"Enter the first name : \")\n",
        "  name2 = input(\"Enter the second name : \")\n",
        "\n",
        "  love_score = random.randint(1,100)\n",
        "\n",
        "  print(f\"The Percentage of love between {name1}  and {name2} is {love_score}%\")\n",
        "\n",
        "\n",
        "\n",
        "love_calculator()"
      ],
      "metadata": {
        "colab": {
          "base_uri": "https://localhost:8080/"
        },
        "id": "ITeWygLJhSWI",
        "outputId": "22f8ecc3-c128-4180-bf32-3c41e1439867"
      },
      "execution_count": null,
      "outputs": [
        {
          "output_type": "stream",
          "name": "stdout",
          "text": [
            "Welcome to love Calculator\n",
            "Enter the first name : oil\n",
            "Enter the second name : water\n",
            "The Percentage of love between oil  and water is 97%\n"
          ]
        }
      ]
    },
    {
      "cell_type": "markdown",
      "source": [
        "# Expense tracker application"
      ],
      "metadata": {
        "id": "l0fuRQcpxd3i"
      }
    },
    {
      "cell_type": "code",
      "source": [
        "!pip install gradio\n",
        "import gradio as gr\n",
        "\n",
        "# Expense tracker app were we use linear search and binary search\n",
        "\n",
        "transactions = [\n",
        "{\"date\": \"2024-08-01\", \"amount\": 50.0, \"description\": \"Groceries\",\"mop\":\"google pay\"},\n",
        "{\"date\": \"2024-08-02\", \"amount\": 20.0, \"description\": \"Bus fare\",\"mop\":\"cash\"},\n",
        "{\"date\": \"2024-08-03\", \"amount\": 100.0, \"description\": \"Electricity bill\"},\n",
        "{\"date\": \"2024-08-04\", \"amount\": 200.0, \"description\": \"New shoes\"},\n",
        "]\n",
        "\n",
        "# linear search for treansaction by date\n",
        "\n",
        "def search_by_date(transactions,target_date):\n",
        "  for transaction in transactions:\n",
        "    if transaction[\"date\"] == target_date:\n",
        "      return transaction\n",
        "  return \"transaction not found\"\n",
        "print(\"linear search : \")\n",
        "print(search_by_date(transactions,\"2024-08-03\"))\n",
        "\n",
        "# binary search for a particular transaction or expense by amount\n",
        "\n",
        "def search_by_amount(target_amount):\n",
        "  transactions.sort(key = lambda x: x[\"amount\"])\n",
        "  # in the transaction array we use the sort method\n",
        "  # sort the amount key value in the dictionaries in the transaction array\n",
        "  # and we also use the lambda function which is a small anonymous function which is used to\n",
        "  # take any number of argument inside the function in the case we are fetching all\n",
        "  # of the amount values as arguments .\n",
        "\n",
        "  left = 0\n",
        "  right = len(transactions) - 1\n",
        "\n",
        "  while left <= right:\n",
        "    mid = (left + right)//2\n",
        "    if transactions[mid][\"amount\"] == target_amount:\n",
        "      return transactions[mid]\n",
        "    elif transactions[mid][\"amount\"] < target_amount:\n",
        "      left = mid\n",
        "    else:\n",
        "      right = mid + 1\n",
        "  return \"transaction no found \"\n",
        "print(\"\")\n",
        "print(\"Binary search :\")\n",
        "print(search_by_amount(50.0))\n",
        "\n",
        "# adding a new expense\n",
        "def add_expense(date,amount,description):\n",
        "  new_transactions = {\"date\":date,\"amount\":amount,\"description\":description}\n",
        "  transactions.append(new_transactions)\n",
        "  return \"expense added successfully!\"\n",
        "\n",
        "# checkinng amount by description\n",
        "def total_spent_by_description(description):\n",
        "  total_spent = sum(transaction[\"amount\"] for transaction in transactions if transaction[\"description\"].lower() == description.lower)\n",
        "  if total_spent > 0:\n",
        "    return{\"description\": description,\"total_spent\" : total_spent}\n",
        "  else:\n",
        "    return \"No Expense were found for this description in the transactions\"\n",
        "\n",
        "# displaying all of the expense\n",
        "def deisplay_all_expense():\n",
        "  if transactions:\n",
        "    return transactions\n",
        "  else:\n",
        "    return \"No transaction available\"\n",
        "\n",
        "# gradio :-\n",
        "# it is an open source within library that allows to you create user friendly interfaces\n",
        "\n",
        "# blocks,markdown,tab and button\n",
        "# block :- is a function in gradio which is used as a container which to containe multiple small element\n",
        "# mardown :- is a component which allows to you add context format text\n",
        "# Tab :- is a component in gradio which is used t create tabed sections in your interface\n",
        "# Buttons :- is a component in gradio which enables the pages to an intract element when ever you pressed an particular butten it trigers the action\n",
        "\n",
        "# buildeing of an gradio interface for our expense tracker application\n",
        "\n",
        "\n",
        "\n",
        "# Define the components and layout\n",
        "\n",
        "with gr.Blocks() as demo:\n",
        "  gr.Markdown(\"# Expense Tracker\")\n",
        "\n",
        "  with gr.Tab(\"Search By Date\"):\n",
        "    date_input = gr.Textbox(label=\"Enter Date (YYYY-MM-DD)\")\n",
        "    date_output = gr.JSON(label = \"result\")  # JSON key is java script object notation which is a text based format of storing strings\n",
        "    gr.Button(\"Search\").click(fn=search_by_date,inputs=date_input,outputs=date_output)\n",
        "\n",
        "  with gr.Tab(\"Search By Amount\"):\n",
        "    amount_input = gr.Number(label=\"Enter amount\")\n",
        "    amount_output = gr.JSON(label = \"result\")\n",
        "    gr.Button(\"Search\").click(fn=search_by_amount,inputs=amount_input,outputs=amount_output)\n",
        "\n",
        "  with gr.Tab(\"Add a new Expense\"):\n",
        "    date_input = gr.Textbox(label=\"Enter Date (YYYY-MM-DD)\")\n",
        "    amount_input = gr.Number(label=\"Enter amount\")\n",
        "    description_input = gr.Textbox(label = \"Enter the description\")\n",
        "    add_output = gr.Textbox(label = \"status\")\n",
        "    gr.Button(\"Add Expense\").click(fn=add_expense,inputs = [date_input,amount_input,description_input],outputs=add_output )\n",
        "\n",
        "demo.launch()\n"
      ],
      "metadata": {
        "colab": {
          "base_uri": "https://localhost:8080/",
          "height": 1000
        },
        "id": "rPFOZwqgobpP",
        "outputId": "645d9945-7a4a-463a-b10a-b69e42a57be9"
      },
      "execution_count": null,
      "outputs": [
        {
          "output_type": "stream",
          "name": "stdout",
          "text": [
            "Requirement already satisfied: gradio in /usr/local/lib/python3.10/dist-packages (4.42.0)\n",
            "Requirement already satisfied: aiofiles<24.0,>=22.0 in /usr/local/lib/python3.10/dist-packages (from gradio) (23.2.1)\n",
            "Requirement already satisfied: anyio<5.0,>=3.0 in /usr/local/lib/python3.10/dist-packages (from gradio) (3.7.1)\n",
            "Requirement already satisfied: fastapi in /usr/local/lib/python3.10/dist-packages (from gradio) (0.112.2)\n",
            "Requirement already satisfied: ffmpy in /usr/local/lib/python3.10/dist-packages (from gradio) (0.4.0)\n",
            "Requirement already satisfied: gradio-client==1.3.0 in /usr/local/lib/python3.10/dist-packages (from gradio) (1.3.0)\n",
            "Requirement already satisfied: httpx>=0.24.1 in /usr/local/lib/python3.10/dist-packages (from gradio) (0.27.2)\n",
            "Requirement already satisfied: huggingface-hub>=0.19.3 in /usr/local/lib/python3.10/dist-packages (from gradio) (0.23.5)\n",
            "Requirement already satisfied: importlib-resources<7.0,>=1.3 in /usr/local/lib/python3.10/dist-packages (from gradio) (6.4.4)\n",
            "Requirement already satisfied: jinja2<4.0 in /usr/local/lib/python3.10/dist-packages (from gradio) (3.1.4)\n",
            "Requirement already satisfied: markupsafe~=2.0 in /usr/local/lib/python3.10/dist-packages (from gradio) (2.1.5)\n",
            "Requirement already satisfied: matplotlib~=3.0 in /usr/local/lib/python3.10/dist-packages (from gradio) (3.7.1)\n",
            "Requirement already satisfied: numpy<3.0,>=1.0 in /usr/local/lib/python3.10/dist-packages (from gradio) (1.26.4)\n",
            "Requirement already satisfied: orjson~=3.0 in /usr/local/lib/python3.10/dist-packages (from gradio) (3.10.7)\n",
            "Requirement already satisfied: packaging in /usr/local/lib/python3.10/dist-packages (from gradio) (24.1)\n",
            "Requirement already satisfied: pandas<3.0,>=1.0 in /usr/local/lib/python3.10/dist-packages (from gradio) (2.1.4)\n",
            "Requirement already satisfied: pillow<11.0,>=8.0 in /usr/local/lib/python3.10/dist-packages (from gradio) (9.4.0)\n",
            "Requirement already satisfied: pydantic>=2.0 in /usr/local/lib/python3.10/dist-packages (from gradio) (2.8.2)\n",
            "Requirement already satisfied: pydub in /usr/local/lib/python3.10/dist-packages (from gradio) (0.25.1)\n",
            "Requirement already satisfied: python-multipart>=0.0.9 in /usr/local/lib/python3.10/dist-packages (from gradio) (0.0.9)\n",
            "Requirement already satisfied: pyyaml<7.0,>=5.0 in /usr/local/lib/python3.10/dist-packages (from gradio) (6.0.2)\n",
            "Requirement already satisfied: ruff>=0.2.2 in /usr/local/lib/python3.10/dist-packages (from gradio) (0.6.3)\n",
            "Requirement already satisfied: semantic-version~=2.0 in /usr/local/lib/python3.10/dist-packages (from gradio) (2.10.0)\n",
            "Requirement already satisfied: tomlkit==0.12.0 in /usr/local/lib/python3.10/dist-packages (from gradio) (0.12.0)\n",
            "Requirement already satisfied: typer<1.0,>=0.12 in /usr/local/lib/python3.10/dist-packages (from gradio) (0.12.5)\n",
            "Requirement already satisfied: typing-extensions~=4.0 in /usr/local/lib/python3.10/dist-packages (from gradio) (4.12.2)\n",
            "Requirement already satisfied: urllib3~=2.0 in /usr/local/lib/python3.10/dist-packages (from gradio) (2.0.7)\n",
            "Requirement already satisfied: uvicorn>=0.14.0 in /usr/local/lib/python3.10/dist-packages (from gradio) (0.30.6)\n",
            "Requirement already satisfied: fsspec in /usr/local/lib/python3.10/dist-packages (from gradio-client==1.3.0->gradio) (2024.6.1)\n",
            "Requirement already satisfied: websockets<13.0,>=10.0 in /usr/local/lib/python3.10/dist-packages (from gradio-client==1.3.0->gradio) (12.0)\n",
            "Requirement already satisfied: idna>=2.8 in /usr/local/lib/python3.10/dist-packages (from anyio<5.0,>=3.0->gradio) (3.8)\n",
            "Requirement already satisfied: sniffio>=1.1 in /usr/local/lib/python3.10/dist-packages (from anyio<5.0,>=3.0->gradio) (1.3.1)\n",
            "Requirement already satisfied: exceptiongroup in /usr/local/lib/python3.10/dist-packages (from anyio<5.0,>=3.0->gradio) (1.2.2)\n",
            "Requirement already satisfied: certifi in /usr/local/lib/python3.10/dist-packages (from httpx>=0.24.1->gradio) (2024.7.4)\n",
            "Requirement already satisfied: httpcore==1.* in /usr/local/lib/python3.10/dist-packages (from httpx>=0.24.1->gradio) (1.0.5)\n",
            "Requirement already satisfied: h11<0.15,>=0.13 in /usr/local/lib/python3.10/dist-packages (from httpcore==1.*->httpx>=0.24.1->gradio) (0.14.0)\n",
            "Requirement already satisfied: filelock in /usr/local/lib/python3.10/dist-packages (from huggingface-hub>=0.19.3->gradio) (3.15.4)\n",
            "Requirement already satisfied: requests in /usr/local/lib/python3.10/dist-packages (from huggingface-hub>=0.19.3->gradio) (2.32.3)\n",
            "Requirement already satisfied: tqdm>=4.42.1 in /usr/local/lib/python3.10/dist-packages (from huggingface-hub>=0.19.3->gradio) (4.66.5)\n",
            "Requirement already satisfied: contourpy>=1.0.1 in /usr/local/lib/python3.10/dist-packages (from matplotlib~=3.0->gradio) (1.2.1)\n",
            "Requirement already satisfied: cycler>=0.10 in /usr/local/lib/python3.10/dist-packages (from matplotlib~=3.0->gradio) (0.12.1)\n",
            "Requirement already satisfied: fonttools>=4.22.0 in /usr/local/lib/python3.10/dist-packages (from matplotlib~=3.0->gradio) (4.53.1)\n",
            "Requirement already satisfied: kiwisolver>=1.0.1 in /usr/local/lib/python3.10/dist-packages (from matplotlib~=3.0->gradio) (1.4.5)\n",
            "Requirement already satisfied: pyparsing>=2.3.1 in /usr/local/lib/python3.10/dist-packages (from matplotlib~=3.0->gradio) (3.1.4)\n",
            "Requirement already satisfied: python-dateutil>=2.7 in /usr/local/lib/python3.10/dist-packages (from matplotlib~=3.0->gradio) (2.8.2)\n",
            "Requirement already satisfied: pytz>=2020.1 in /usr/local/lib/python3.10/dist-packages (from pandas<3.0,>=1.0->gradio) (2024.1)\n",
            "Requirement already satisfied: tzdata>=2022.1 in /usr/local/lib/python3.10/dist-packages (from pandas<3.0,>=1.0->gradio) (2024.1)\n",
            "Requirement already satisfied: annotated-types>=0.4.0 in /usr/local/lib/python3.10/dist-packages (from pydantic>=2.0->gradio) (0.7.0)\n",
            "Requirement already satisfied: pydantic-core==2.20.1 in /usr/local/lib/python3.10/dist-packages (from pydantic>=2.0->gradio) (2.20.1)\n",
            "Requirement already satisfied: click>=8.0.0 in /usr/local/lib/python3.10/dist-packages (from typer<1.0,>=0.12->gradio) (8.1.7)\n",
            "Requirement already satisfied: shellingham>=1.3.0 in /usr/local/lib/python3.10/dist-packages (from typer<1.0,>=0.12->gradio) (1.5.4)\n",
            "Requirement already satisfied: rich>=10.11.0 in /usr/local/lib/python3.10/dist-packages (from typer<1.0,>=0.12->gradio) (13.8.0)\n",
            "Requirement already satisfied: starlette<0.39.0,>=0.37.2 in /usr/local/lib/python3.10/dist-packages (from fastapi->gradio) (0.38.2)\n",
            "Requirement already satisfied: six>=1.5 in /usr/local/lib/python3.10/dist-packages (from python-dateutil>=2.7->matplotlib~=3.0->gradio) (1.16.0)\n",
            "Requirement already satisfied: markdown-it-py>=2.2.0 in /usr/local/lib/python3.10/dist-packages (from rich>=10.11.0->typer<1.0,>=0.12->gradio) (3.0.0)\n",
            "Requirement already satisfied: pygments<3.0.0,>=2.13.0 in /usr/local/lib/python3.10/dist-packages (from rich>=10.11.0->typer<1.0,>=0.12->gradio) (2.16.1)\n",
            "Requirement already satisfied: charset-normalizer<4,>=2 in /usr/local/lib/python3.10/dist-packages (from requests->huggingface-hub>=0.19.3->gradio) (3.3.2)\n",
            "Requirement already satisfied: mdurl~=0.1 in /usr/local/lib/python3.10/dist-packages (from markdown-it-py>=2.2.0->rich>=10.11.0->typer<1.0,>=0.12->gradio) (0.1.2)\n",
            "linear search : \n",
            "{'date': '2024-08-03', 'amount': 100.0, 'description': 'Electricity bill'}\n",
            "\n",
            "Binary search :\n",
            "{'date': '2024-08-01', 'amount': 50.0, 'description': 'Groceries', 'mop': 'google pay'}\n"
          ]
        },
        {
          "output_type": "stream",
          "name": "stderr",
          "text": [
            "/usr/local/lib/python3.10/dist-packages/gradio/utils.py:1002: UserWarning: Expected 2 arguments for function <function search_by_date at 0x7d750fe17d00>, received 1.\n",
            "  warnings.warn(\n",
            "/usr/local/lib/python3.10/dist-packages/gradio/utils.py:1006: UserWarning: Expected at least 2 arguments for function <function search_by_date at 0x7d750fe17d00>, received 1.\n",
            "  warnings.warn(\n"
          ]
        },
        {
          "output_type": "stream",
          "name": "stdout",
          "text": [
            "Setting queue=True in a Colab notebook requires sharing enabled. Setting `share=True` (you can turn this off by setting `share=False` in `launch()` explicitly).\n",
            "\n",
            "Colab notebook detected. To show errors in colab notebook, set debug=True in launch()\n",
            "Running on public URL: https://0ece632d7a6e14343b.gradio.live\n",
            "\n",
            "This share link expires in 72 hours. For free permanent hosting and GPU upgrades, run `gradio deploy` from Terminal to deploy to Spaces (https://huggingface.co/spaces)\n"
          ]
        },
        {
          "output_type": "display_data",
          "data": {
            "text/plain": [
              "<IPython.core.display.HTML object>"
            ],
            "text/html": [
              "<div><iframe src=\"https://0ece632d7a6e14343b.gradio.live\" width=\"100%\" height=\"500\" allow=\"autoplay; camera; microphone; clipboard-read; clipboard-write;\" frameborder=\"0\" allowfullscreen></iframe></div>"
            ]
          },
          "metadata": {}
        },
        {
          "output_type": "execute_result",
          "data": {
            "text/plain": []
          },
          "metadata": {},
          "execution_count": 10
        }
      ]
    },
    {
      "cell_type": "code",
      "source": [
        "!pip install gradio\n",
        "import gradio as gr\n",
        "\n",
        "# Expense tracker app were we use linear search and binary search\n",
        "\n",
        "transactions = [\n",
        "{\"date\": \"2024-08-01\", \"amount\": 50.0, \"description\": \"Groceries\",\"mop\":\"google pay\"},\n",
        "{\"date\": \"2024-08-02\", \"amount\": 20.0, \"description\": \"Bus fare\",\"mop\":\"cash\"},\n",
        "{\"date\": \"2024-08-03\", \"amount\": 100.0, \"description\": \"Electricity bill\"},\n",
        "{\"date\": \"2024-08-04\", \"amount\": 200.0, \"description\": \"New shoes\"},\n",
        "]\n",
        "\n",
        "# linear search for treansaction by date\n",
        "\n",
        "def search_by_date(target_date):\n",
        "  for transaction in transactions:\n",
        "    if transaction[\"date\"] == target_date:\n",
        "      return transaction\n",
        "  return \"transaction not found\"\n",
        "\n",
        "# binary search for a particular transaction or expense by amount\n",
        "\n",
        "def search_by_amount(target_amount):\n",
        "  transactions.sort(key = lambda x: x[\"amount\"])\n",
        "  left = 0\n",
        "  right = len(transactions) - 1\n",
        "\n",
        "  while left <= right:\n",
        "    mid = (left + right)//2\n",
        "    if transactions[mid][\"amount\"] == target_amount:\n",
        "      return transactions[mid]\n",
        "    elif transactions[mid][\"amount\"] < target_amount:\n",
        "      left = mid\n",
        "    else:\n",
        "      right = mid - 1\n",
        "  return \"transaction not found \"\n",
        "print(search_by_amount(50.0))\n",
        "\n",
        "# adding a new expense\n",
        "def add_expense(date,amount,description):\n",
        "  new_transactions = {\"date\":date,\"amount\":amount,\"description\":description}\n",
        "  transactions.append(new_transaction)\n",
        "  return \"expense added successfully!\"\n",
        "\n",
        "# checkinng amount by description\n",
        "def total_spent_by_description(description):\n",
        "  total_spent = sum(transaction[\"amount\"] for transaction in transactions if transaction[\"description\"].lower() == description.lower())\n",
        "  if total_spent > 0:\n",
        "    return{\"description\": description,\"total_spent\" : total_spent}\n",
        "  else:\n",
        "    return \"No Expense were found for this description in the transactions\"\n",
        "\n",
        "# displaying all of the expense\n",
        "def deisplay_all_expense():\n",
        "  if transactions:\n",
        "    return transactions\n",
        "  else:\n",
        "    return \"No transaction available\"\n",
        "\n",
        "# buildeing of an gradio interface for our expense tracker application\n",
        "\n",
        "\n",
        "with gr.Blocks() as demo:\n",
        "  gr.Markdown(\"# Expense Tracker\")\n",
        "\n",
        "  with gr.Tab(\"Search By Date\"):\n",
        "    date_input = gr.Textbox(label=\"Enter Date (YYYY-MM-DD)\")\n",
        "    date_output = gr.JSON(label = \"result\")  # JSON key is java script object notation which is a text based format of storing strings\n",
        "    gr.Button(\"Search\").click(fn=search_by_date,inputs=date_input,outputs=date_output)\n",
        "\n",
        "  with gr.Tab(\"Search By Amount\"):\n",
        "    amount_input = gr.Number(label=\"Enter amount\")\n",
        "    amount_output = gr.JSON(label = \"result\")\n",
        "    gr.Button(\"Search\").click(fn=search_by_amount,inputs=amount_input,outputs=amount_output)\n",
        "\n",
        "  with gr.Tab(\"Add a new Expense\"):\n",
        "    date_input = gr.Textbox(label=\"Enter Date (YYYY-MM-DD)\")\n",
        "    amount_input = gr.Number(label=\"Enter amount\")\n",
        "    description_input = gr.Textbox(label = \"Enter the description\")\n",
        "    add_output = gr.Textbox(label = \"status\")\n",
        "    gr.Button(\"Add Expense\").click(fn=add_expense,inputs = [date_input,amount_input,description_input],outputs=add_output )\n",
        "\n",
        "  with gr.Tab(\"Display All  Expenses\"):\n",
        "    all_expenses_output = gr.JSON(label=\"All Expenses\")\n",
        "    gr.Button(\"Show all Expenses\").click(fn=deisplay_all_expense,outputs=all_expenses_output)\n",
        "\n",
        "demo.launch()\n"
      ],
      "metadata": {
        "colab": {
          "base_uri": "https://localhost:8080/",
          "height": 1000
        },
        "id": "Dv1uQI7KNl3H",
        "outputId": "cb92778f-c54b-4a4c-deea-43a518a01653"
      },
      "execution_count": null,
      "outputs": [
        {
          "output_type": "stream",
          "name": "stdout",
          "text": [
            "Requirement already satisfied: gradio in /usr/local/lib/python3.10/dist-packages (4.42.0)\n",
            "Requirement already satisfied: aiofiles<24.0,>=22.0 in /usr/local/lib/python3.10/dist-packages (from gradio) (23.2.1)\n",
            "Requirement already satisfied: anyio<5.0,>=3.0 in /usr/local/lib/python3.10/dist-packages (from gradio) (3.7.1)\n",
            "Requirement already satisfied: fastapi in /usr/local/lib/python3.10/dist-packages (from gradio) (0.112.2)\n",
            "Requirement already satisfied: ffmpy in /usr/local/lib/python3.10/dist-packages (from gradio) (0.4.0)\n",
            "Requirement already satisfied: gradio-client==1.3.0 in /usr/local/lib/python3.10/dist-packages (from gradio) (1.3.0)\n",
            "Requirement already satisfied: httpx>=0.24.1 in /usr/local/lib/python3.10/dist-packages (from gradio) (0.27.2)\n",
            "Requirement already satisfied: huggingface-hub>=0.19.3 in /usr/local/lib/python3.10/dist-packages (from gradio) (0.23.5)\n",
            "Requirement already satisfied: importlib-resources<7.0,>=1.3 in /usr/local/lib/python3.10/dist-packages (from gradio) (6.4.4)\n",
            "Requirement already satisfied: jinja2<4.0 in /usr/local/lib/python3.10/dist-packages (from gradio) (3.1.4)\n",
            "Requirement already satisfied: markupsafe~=2.0 in /usr/local/lib/python3.10/dist-packages (from gradio) (2.1.5)\n",
            "Requirement already satisfied: matplotlib~=3.0 in /usr/local/lib/python3.10/dist-packages (from gradio) (3.7.1)\n",
            "Requirement already satisfied: numpy<3.0,>=1.0 in /usr/local/lib/python3.10/dist-packages (from gradio) (1.26.4)\n",
            "Requirement already satisfied: orjson~=3.0 in /usr/local/lib/python3.10/dist-packages (from gradio) (3.10.7)\n",
            "Requirement already satisfied: packaging in /usr/local/lib/python3.10/dist-packages (from gradio) (24.1)\n",
            "Requirement already satisfied: pandas<3.0,>=1.0 in /usr/local/lib/python3.10/dist-packages (from gradio) (2.1.4)\n",
            "Requirement already satisfied: pillow<11.0,>=8.0 in /usr/local/lib/python3.10/dist-packages (from gradio) (9.4.0)\n",
            "Requirement already satisfied: pydantic>=2.0 in /usr/local/lib/python3.10/dist-packages (from gradio) (2.8.2)\n",
            "Requirement already satisfied: pydub in /usr/local/lib/python3.10/dist-packages (from gradio) (0.25.1)\n",
            "Requirement already satisfied: python-multipart>=0.0.9 in /usr/local/lib/python3.10/dist-packages (from gradio) (0.0.9)\n",
            "Requirement already satisfied: pyyaml<7.0,>=5.0 in /usr/local/lib/python3.10/dist-packages (from gradio) (6.0.2)\n",
            "Requirement already satisfied: ruff>=0.2.2 in /usr/local/lib/python3.10/dist-packages (from gradio) (0.6.3)\n",
            "Requirement already satisfied: semantic-version~=2.0 in /usr/local/lib/python3.10/dist-packages (from gradio) (2.10.0)\n",
            "Requirement already satisfied: tomlkit==0.12.0 in /usr/local/lib/python3.10/dist-packages (from gradio) (0.12.0)\n",
            "Requirement already satisfied: typer<1.0,>=0.12 in /usr/local/lib/python3.10/dist-packages (from gradio) (0.12.5)\n",
            "Requirement already satisfied: typing-extensions~=4.0 in /usr/local/lib/python3.10/dist-packages (from gradio) (4.12.2)\n",
            "Requirement already satisfied: urllib3~=2.0 in /usr/local/lib/python3.10/dist-packages (from gradio) (2.0.7)\n",
            "Requirement already satisfied: uvicorn>=0.14.0 in /usr/local/lib/python3.10/dist-packages (from gradio) (0.30.6)\n",
            "Requirement already satisfied: fsspec in /usr/local/lib/python3.10/dist-packages (from gradio-client==1.3.0->gradio) (2024.6.1)\n",
            "Requirement already satisfied: websockets<13.0,>=10.0 in /usr/local/lib/python3.10/dist-packages (from gradio-client==1.3.0->gradio) (12.0)\n",
            "Requirement already satisfied: idna>=2.8 in /usr/local/lib/python3.10/dist-packages (from anyio<5.0,>=3.0->gradio) (3.8)\n",
            "Requirement already satisfied: sniffio>=1.1 in /usr/local/lib/python3.10/dist-packages (from anyio<5.0,>=3.0->gradio) (1.3.1)\n",
            "Requirement already satisfied: exceptiongroup in /usr/local/lib/python3.10/dist-packages (from anyio<5.0,>=3.0->gradio) (1.2.2)\n",
            "Requirement already satisfied: certifi in /usr/local/lib/python3.10/dist-packages (from httpx>=0.24.1->gradio) (2024.7.4)\n",
            "Requirement already satisfied: httpcore==1.* in /usr/local/lib/python3.10/dist-packages (from httpx>=0.24.1->gradio) (1.0.5)\n",
            "Requirement already satisfied: h11<0.15,>=0.13 in /usr/local/lib/python3.10/dist-packages (from httpcore==1.*->httpx>=0.24.1->gradio) (0.14.0)\n",
            "Requirement already satisfied: filelock in /usr/local/lib/python3.10/dist-packages (from huggingface-hub>=0.19.3->gradio) (3.15.4)\n",
            "Requirement already satisfied: requests in /usr/local/lib/python3.10/dist-packages (from huggingface-hub>=0.19.3->gradio) (2.32.3)\n",
            "Requirement already satisfied: tqdm>=4.42.1 in /usr/local/lib/python3.10/dist-packages (from huggingface-hub>=0.19.3->gradio) (4.66.5)\n",
            "Requirement already satisfied: contourpy>=1.0.1 in /usr/local/lib/python3.10/dist-packages (from matplotlib~=3.0->gradio) (1.2.1)\n",
            "Requirement already satisfied: cycler>=0.10 in /usr/local/lib/python3.10/dist-packages (from matplotlib~=3.0->gradio) (0.12.1)\n",
            "Requirement already satisfied: fonttools>=4.22.0 in /usr/local/lib/python3.10/dist-packages (from matplotlib~=3.0->gradio) (4.53.1)\n",
            "Requirement already satisfied: kiwisolver>=1.0.1 in /usr/local/lib/python3.10/dist-packages (from matplotlib~=3.0->gradio) (1.4.5)\n",
            "Requirement already satisfied: pyparsing>=2.3.1 in /usr/local/lib/python3.10/dist-packages (from matplotlib~=3.0->gradio) (3.1.4)\n",
            "Requirement already satisfied: python-dateutil>=2.7 in /usr/local/lib/python3.10/dist-packages (from matplotlib~=3.0->gradio) (2.8.2)\n",
            "Requirement already satisfied: pytz>=2020.1 in /usr/local/lib/python3.10/dist-packages (from pandas<3.0,>=1.0->gradio) (2024.1)\n",
            "Requirement already satisfied: tzdata>=2022.1 in /usr/local/lib/python3.10/dist-packages (from pandas<3.0,>=1.0->gradio) (2024.1)\n",
            "Requirement already satisfied: annotated-types>=0.4.0 in /usr/local/lib/python3.10/dist-packages (from pydantic>=2.0->gradio) (0.7.0)\n",
            "Requirement already satisfied: pydantic-core==2.20.1 in /usr/local/lib/python3.10/dist-packages (from pydantic>=2.0->gradio) (2.20.1)\n",
            "Requirement already satisfied: click>=8.0.0 in /usr/local/lib/python3.10/dist-packages (from typer<1.0,>=0.12->gradio) (8.1.7)\n",
            "Requirement already satisfied: shellingham>=1.3.0 in /usr/local/lib/python3.10/dist-packages (from typer<1.0,>=0.12->gradio) (1.5.4)\n",
            "Requirement already satisfied: rich>=10.11.0 in /usr/local/lib/python3.10/dist-packages (from typer<1.0,>=0.12->gradio) (13.8.0)\n",
            "Requirement already satisfied: starlette<0.39.0,>=0.37.2 in /usr/local/lib/python3.10/dist-packages (from fastapi->gradio) (0.38.2)\n",
            "Requirement already satisfied: six>=1.5 in /usr/local/lib/python3.10/dist-packages (from python-dateutil>=2.7->matplotlib~=3.0->gradio) (1.16.0)\n",
            "Requirement already satisfied: markdown-it-py>=2.2.0 in /usr/local/lib/python3.10/dist-packages (from rich>=10.11.0->typer<1.0,>=0.12->gradio) (3.0.0)\n",
            "Requirement already satisfied: pygments<3.0.0,>=2.13.0 in /usr/local/lib/python3.10/dist-packages (from rich>=10.11.0->typer<1.0,>=0.12->gradio) (2.16.1)\n",
            "Requirement already satisfied: charset-normalizer<4,>=2 in /usr/local/lib/python3.10/dist-packages (from requests->huggingface-hub>=0.19.3->gradio) (3.3.2)\n",
            "Requirement already satisfied: mdurl~=0.1 in /usr/local/lib/python3.10/dist-packages (from markdown-it-py>=2.2.0->rich>=10.11.0->typer<1.0,>=0.12->gradio) (0.1.2)\n",
            "{'date': '2024-08-01', 'amount': 50.0, 'description': 'Groceries', 'mop': 'google pay'}\n",
            "Setting queue=True in a Colab notebook requires sharing enabled. Setting `share=True` (you can turn this off by setting `share=False` in `launch()` explicitly).\n",
            "\n",
            "Colab notebook detected. To show errors in colab notebook, set debug=True in launch()\n",
            "Running on public URL: https://f832038ade5f9e5b49.gradio.live\n",
            "\n",
            "This share link expires in 72 hours. For free permanent hosting and GPU upgrades, run `gradio deploy` from Terminal to deploy to Spaces (https://huggingface.co/spaces)\n"
          ]
        },
        {
          "output_type": "display_data",
          "data": {
            "text/plain": [
              "<IPython.core.display.HTML object>"
            ],
            "text/html": [
              "<div><iframe src=\"https://f832038ade5f9e5b49.gradio.live\" width=\"100%\" height=\"500\" allow=\"autoplay; camera; microphone; clipboard-read; clipboard-write;\" frameborder=\"0\" allowfullscreen></iframe></div>"
            ]
          },
          "metadata": {}
        },
        {
          "output_type": "execute_result",
          "data": {
            "text/plain": []
          },
          "metadata": {},
          "execution_count": 11
        }
      ]
    },
    {
      "cell_type": "code",
      "source": [
        "# pizza billing system\n",
        "\n",
        "class Pizza:\n",
        "  def __init__(self,size,toppings):\n",
        "    self.size = size\n",
        "    self.toppings = toppings\n",
        "  def cal_price(self):\n",
        "    base_price = 0\n",
        "    if self.size == \"small\":\n",
        "      base_price = 10\n",
        "    elif self.size == \"mediam\":\n",
        "      base_price =15\n",
        "    elif self.size == \"large\":\n",
        "      base_price = 20\n",
        "    else:\n",
        "      print(\"Enter Correctly\")\n",
        "\n",
        "    topping_price = len(self.toppings) * 2\n",
        "\n",
        "    total_price = base_price + topping_price\n",
        "    return total_price\n",
        "def main():\n",
        "  print(\"Welcome to Anjanadri Pizza Shop \")\n",
        "  size = input(\"Enter the Size of the Pizza you want(small,large,medium) \")\n",
        "  toppings = input(\"Enter The Number of toppings You want \")\n",
        "  toppings = [toppings.strip() for topping in toppings]\n",
        "\n",
        "  pizza = Pizza(size,toppings)\n",
        "  Price = pizza.cal_price()\n",
        "  print(f\"Total price for your pizza is $ {Price}\")\n",
        "\n",
        "if __name__ == \"__main__\":\n",
        "  main()\n",
        "\n"
      ],
      "metadata": {
        "colab": {
          "base_uri": "https://localhost:8080/"
        },
        "id": "jjfMSm20RdoF",
        "outputId": "d742a3ec-7c69-466c-c442-13623dc65113"
      },
      "execution_count": null,
      "outputs": [
        {
          "output_type": "stream",
          "name": "stdout",
          "text": [
            "Welcome to Anjanadri Pizza Shop \n",
            "Enter the Size of the Pizza you want(small,large,medium) small\n",
            "Enter The Number of toppings You want 5\n",
            "Total price for your pizza is $ 12\n"
          ]
        }
      ]
    },
    {
      "cell_type": "code",
      "source": [
        "#  create a class node     #linked list\n",
        "\n",
        "class Node:\n",
        "  def __init__(self,data):\n",
        "    self.data = data  # the 1st Node data\n",
        "    self.next = None  # the pointer to the next node is none initialy because we dont have any node\n",
        "node1 = Node(10)\n",
        "node2 = Node(20)\n",
        "node3 = Node(30)\n",
        "\n",
        "node1.next = node2\n",
        "node2.next = node3\n",
        "\n",
        "current = node1 # we assign the head to be the first node\n",
        "\n",
        "while current:\n",
        "  print(current.data)\n",
        "  current = current.next\n"
      ],
      "metadata": {
        "colab": {
          "base_uri": "https://localhost:8080/"
        },
        "id": "zR5l9T26o_Za",
        "outputId": "068de661-045a-4dcc-f8e4-7a67e3ee25a7"
      },
      "execution_count": null,
      "outputs": [
        {
          "output_type": "stream",
          "name": "stdout",
          "text": [
            "10\n",
            "20\n",
            "30\n"
          ]
        }
      ]
    },
    {
      "cell_type": "code",
      "source": [
        "from re import T\n",
        "class TrainCar:\n",
        "  def __init__(self,passengers):\n",
        "    self.passengers = passengers\n",
        "    self.next = None\n",
        "bogi1 = TrainCar(50)\n",
        "bogi2 = TrainCar(40)\n",
        "bogi3 = TrainCar(30)\n",
        "\n",
        "bogi1.next = bogi2\n",
        "bogi2.next = bogi3\n",
        "\n",
        "current_bogi = bogi1\n",
        "\n",
        "while current_bogi:\n",
        "  print(f\"passengers in this train are : {current_bogi.passengers}\")\n",
        "  current_bogi = current_bogi.next\n"
      ],
      "metadata": {
        "colab": {
          "base_uri": "https://localhost:8080/"
        },
        "id": "bqMmCWzLsAHo",
        "outputId": "a2ffefae-599a-4eee-9f3a-d1c41512a5ee"
      },
      "execution_count": null,
      "outputs": [
        {
          "output_type": "stream",
          "name": "stdout",
          "text": [
            "passengers in this train are : 50\n",
            "passengers in this train are : 40\n",
            "passengers in this train are : 30\n"
          ]
        }
      ]
    },
    {
      "cell_type": "code",
      "source": [
        "'''\n",
        "1st node 30\n",
        "7\n",
        "3\n",
        "8\n",
        "15\n",
        "14\n",
        "19\n",
        "in a binary\n",
        "right node alway greater than left node\n",
        "the top most node in the binary earch try called as root node\n",
        "connectuio b/w one node and anotjher node is called as edge\n",
        "Binary search tree :-  itis an hirchy data structure which is used to organize data\n",
        "\n",
        "height of the particular tree is presnt in right side\n",
        "size of the tree :- is the number of nodes that is present in entire tree\n",
        "\n",
        "top nodes are ancicter\n",
        "last\n",
        "\n",
        "in a entire tree in each of the paren in each of the leyh78el is called as  unbalanced tree\n",
        "\n",
        "solution of particular tree is avl\n",
        "the popular examoples aere binary search tree are\n",
        "file system(folders,class subfolders)\n",
        "networkingh\n",
        "\n",
        "types of binary search tree\n",
        ". complete b\n",
        ". full binary\n",
        ". perfect binary search tree\n",
        ". skewed bunary search tree\n",
        "\n",
        "complete binary seartch tree\n",
        "  all of the level are full with no blank nodes\n",
        "full\n",
        "   eaither  they have 0 or 2 children\n",
        "perfcty binary tree\n",
        "  all the levels are fill but it may have blank node\n",
        "skewed\n",
        "  each parent habve only one child node\n",
        "\n",
        "\n",
        "create a binary search tree as size 10\n",
        "\n",
        "\n",
        "'''\n",
        "# udemys"
      ],
      "metadata": {
        "id": "YWkweL6KrdiZ"
      },
      "execution_count": null,
      "outputs": []
    }
  ]
}